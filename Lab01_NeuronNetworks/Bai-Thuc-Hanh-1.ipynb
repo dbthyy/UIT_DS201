{
 "cells": [
  {
   "cell_type": "markdown",
   "metadata": {},
   "source": [
    "23521563\n",
    "\n",
    "Đinh Bảo Thy"
   ]
  },
  {
   "cell_type": "markdown",
   "metadata": {},
   "source": [
    "# BÀI THỰC HÀNH 1: XÂY DỰNG MẠNG NEURON ĐƠN GIẢN"
   ]
  },
  {
   "cell_type": "markdown",
   "metadata": {},
   "source": [
    "### Bài 1: Xây dựng mô hình 1-layer MLP và hàm Softmax làm activation function. Huấn luyện mô hình này sử dụng SGD làm optimizer và đánh giá trên các độ đo accuracy, precision, recall và F1-macro. Đánh giá kết quả của mô hình với từng chữ số."
   ]
  },
  {
   "cell_type": "code",
   "execution_count": 23,
   "metadata": {},
   "outputs": [
    {
     "name": "stdout",
     "output_type": "stream",
     "text": [
      "Epoch 1\n",
      "Train Loss: 0.8794 | accuracy: 0.8820 | precision: 0.8811 | recall: 0.8802 | f1: 0.8800 | \n",
      "Epoch 2\n",
      "Train Loss: 0.5835 | accuracy: 0.8942 | precision: 0.8933 | recall: 0.8925 | f1: 0.8923 | \n",
      "Epoch 3\n",
      "Train Loss: 0.5315 | accuracy: 0.9018 | precision: 0.9007 | recall: 0.9006 | f1: 0.9004 | \n",
      "Epoch 4\n",
      "Train Loss: 0.5041 | accuracy: 0.9059 | precision: 0.9049 | recall: 0.9046 | f1: 0.9045 | \n",
      "Epoch 5\n",
      "Train Loss: 0.4893 | accuracy: 0.9087 | precision: 0.9083 | recall: 0.9074 | f1: 0.9074 | \n",
      "Epoch 6\n",
      "Train Loss: 0.4757 | accuracy: 0.9115 | precision: 0.9106 | recall: 0.9103 | f1: 0.9102 | \n",
      "Epoch 7\n",
      "Train Loss: 0.4645 | accuracy: 0.9125 | precision: 0.9119 | recall: 0.9112 | f1: 0.9112 | \n",
      "Epoch 8\n",
      "Train Loss: 0.4600 | accuracy: 0.9129 | precision: 0.9123 | recall: 0.9116 | f1: 0.9115 | \n",
      "Epoch 9\n",
      "Train Loss: 0.4511 | accuracy: 0.9139 | precision: 0.9130 | recall: 0.9128 | f1: 0.9126 | \n",
      "Epoch 10\n",
      "Train Loss: 0.4476 | accuracy: 0.9164 | precision: 0.9158 | recall: 0.9153 | f1: 0.9153 | \n",
      "\n",
      "Best Accuracy for Model MLP_1_Layer: 0.9164\n",
      "\n",
      "Evaluation Result on each digit:\n",
      "Number: 0 | accuracy: 0.9924 | precision: 0.9706 | recall: 0.9876 | f1: 0.9789 | \n",
      "Number: 1 | accuracy: 0.9921 | precision: 0.9774 | recall: 0.9836 | f1: 0.9805 | \n",
      "Number: 2 | accuracy: 0.9805 | precision: 0.9557 | recall: 0.9373 | f1: 0.9462 | \n",
      "Number: 3 | accuracy: 0.9805 | precision: 0.9451 | recall: 0.9478 | f1: 0.9465 | \n",
      "Number: 4 | accuracy: 0.9833 | precision: 0.9527 | recall: 0.9531 | f1: 0.9529 | \n",
      "Number: 5 | accuracy: 0.9787 | precision: 0.9446 | recall: 0.9216 | f1: 0.9327 | \n",
      "Number: 6 | accuracy: 0.9888 | precision: 0.9633 | recall: 0.9728 | f1: 0.9680 | \n",
      "Number: 7 | accuracy: 0.9840 | precision: 0.9653 | recall: 0.9467 | f1: 0.9558 | \n",
      "Number: 8 | accuracy: 0.9755 | precision: 0.9251 | recall: 0.9379 | f1: 0.9314 | \n",
      "Number: 9 | accuracy: 0.9770 | precision: 0.9328 | recall: 0.9419 | f1: 0.9373 | \n"
     ]
    }
   ],
   "source": [
    "!python main.py --model MLP_1_Layer"
   ]
  },
  {
   "cell_type": "markdown",
   "metadata": {},
   "source": [
    "### Bài 2: Xây dựng mô hình 3-layer MLP, hàm ReLU và hàm softmax làm activation function. Trong đó activation function cho 2 layer đầu là ReLU và activation function cho layer cuối là Softmax. Huấn luyện mô hình này sử dụng SGD làm optimizer và đánh giá trên các độ đo accuracy, precision, recall và F1-macro. Đánh giá kết quả của mô hình với từng chữ số."
   ]
  },
  {
   "cell_type": "code",
   "execution_count": 24,
   "metadata": {},
   "outputs": [
    {
     "name": "stdout",
     "output_type": "stream",
     "text": [
      "Epoch 1\n",
      "Train Loss: 1.0693 | accuracy: 0.8858 | precision: 0.8847 | recall: 0.8838 | f1: 0.8833 | \n",
      "Epoch 2\n",
      "Train Loss: 0.3813 | accuracy: 0.9130 | precision: 0.9118 | recall: 0.9117 | f1: 0.9114 | \n",
      "Epoch 3\n",
      "Train Loss: 0.3100 | accuracy: 0.9253 | precision: 0.9250 | recall: 0.9242 | f1: 0.9242 | \n",
      "Epoch 4\n",
      "Train Loss: 0.2666 | accuracy: 0.9357 | precision: 0.9350 | recall: 0.9349 | f1: 0.9348 | \n",
      "Epoch 5\n",
      "Train Loss: 0.2325 | accuracy: 0.9425 | precision: 0.9423 | recall: 0.9417 | f1: 0.9418 | \n",
      "Epoch 6\n",
      "Train Loss: 0.2050 | accuracy: 0.9479 | precision: 0.9473 | recall: 0.9475 | f1: 0.9473 | \n",
      "Epoch 7\n",
      "Train Loss: 0.1842 | accuracy: 0.9504 | precision: 0.9500 | recall: 0.9499 | f1: 0.9498 | \n",
      "Epoch 8\n",
      "Train Loss: 0.1653 | accuracy: 0.9558 | precision: 0.9556 | recall: 0.9553 | f1: 0.9554 | \n",
      "Epoch 9\n",
      "Train Loss: 0.1512 | accuracy: 0.9596 | precision: 0.9595 | recall: 0.9591 | f1: 0.9592 | \n",
      "Epoch 10\n",
      "Train Loss: 0.1385 | accuracy: 0.9611 | precision: 0.9609 | recall: 0.9607 | f1: 0.9607 | \n",
      "\n",
      "Best Accuracy for Model MLP_3_Layer: 0.9611\n",
      "\n",
      "Evaluation Result on each digit:\n",
      "Number: 0 | accuracy: 0.9953 | precision: 0.9831 | recall: 0.9906 | f1: 0.9868 | \n",
      "Number: 1 | accuracy: 0.9960 | precision: 0.9897 | recall: 0.9904 | f1: 0.9901 | \n",
      "Number: 2 | accuracy: 0.9921 | precision: 0.9781 | recall: 0.9793 | f1: 0.9787 | \n",
      "Number: 3 | accuracy: 0.9906 | precision: 0.9706 | recall: 0.9781 | f1: 0.9743 | \n",
      "Number: 4 | accuracy: 0.9921 | precision: 0.9755 | recall: 0.9802 | f1: 0.9778 | \n",
      "Number: 5 | accuracy: 0.9920 | precision: 0.9791 | recall: 0.9713 | f1: 0.9752 | \n",
      "Number: 6 | accuracy: 0.9924 | precision: 0.9755 | recall: 0.9809 | f1: 0.9782 | \n",
      "Number: 7 | accuracy: 0.9910 | precision: 0.9768 | recall: 0.9743 | f1: 0.9755 | \n",
      "Number: 8 | accuracy: 0.9910 | precision: 0.9808 | recall: 0.9675 | f1: 0.9740 | \n",
      "Number: 9 | accuracy: 0.9897 | precision: 0.9738 | recall: 0.9692 | f1: 0.9715 | \n"
     ]
    }
   ],
   "source": [
    "!python main.py --model MLP_3_Layer"
   ]
  }
 ],
 "metadata": {
  "kernelspec": {
   "display_name": "Python 3",
   "language": "python",
   "name": "python3"
  },
  "language_info": {
   "codemirror_mode": {
    "name": "ipython",
    "version": 3
   },
   "file_extension": ".py",
   "mimetype": "text/x-python",
   "name": "python",
   "nbconvert_exporter": "python",
   "pygments_lexer": "ipython3",
   "version": "3.10.0"
  }
 },
 "nbformat": 4,
 "nbformat_minor": 2
}
