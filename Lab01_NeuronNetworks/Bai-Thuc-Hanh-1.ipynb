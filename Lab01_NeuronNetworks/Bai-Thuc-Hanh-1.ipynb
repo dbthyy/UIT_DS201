{
 "cells": [
  {
   "cell_type": "markdown",
   "metadata": {},
   "source": [
    "23521563\n",
    "\n",
    "Đinh Bảo Thy"
   ]
  },
  {
   "cell_type": "markdown",
   "metadata": {},
   "source": [
    "# BÀI THỰC HÀNH 1: XÂY DỰNG MẠNG NEURON ĐƠN GIẢN"
   ]
  },
  {
   "cell_type": "markdown",
   "metadata": {},
   "source": [
    "### Bài 1: Xây dựng mô hình 1-layer MLP và hàm Softmax làm activation function. Huấn luyện mô hình này sử dụng SGD làm optimizer và đánh giá trên các độ đo accuracy, precision, recall và F1-macro. Đánh giá kết quả của mô hình với từng chữ số."
   ]
  },
  {
   "cell_type": "code",
   "execution_count": 3,
   "metadata": {},
   "outputs": [
    {
     "name": "stdout",
     "output_type": "stream",
     "text": [
      "Epoch 1\n",
      "Train Loss: 0.8761 | accuracy: 0.8845 | precision: 0.8837 | recall: 0.8826 | f1: 0.8823 | \n",
      "Epoch 2\n",
      "Train Loss: 0.5831 | accuracy: 0.8965 | precision: 0.8955 | recall: 0.8949 | f1: 0.8948 | \n",
      "Epoch 3\n",
      "Train Loss: 0.5278 | accuracy: 0.9028 | precision: 0.9021 | recall: 0.9015 | f1: 0.9013 | \n",
      "Epoch 4\n",
      "Train Loss: 0.5026 | accuracy: 0.9052 | precision: 0.9046 | recall: 0.9040 | f1: 0.9038 | \n",
      "Epoch 5\n",
      "Train Loss: 0.4848 | accuracy: 0.9103 | precision: 0.9096 | recall: 0.9091 | f1: 0.9090 | \n",
      "Epoch 6\n",
      "Train Loss: 0.4742 | accuracy: 0.9107 | precision: 0.9101 | recall: 0.9094 | f1: 0.9093 | \n",
      "Epoch 7\n",
      "Train Loss: 0.4655 | accuracy: 0.9132 | precision: 0.9126 | recall: 0.9119 | f1: 0.9118 | \n",
      "Epoch 8\n",
      "Train Loss: 0.4603 | accuracy: 0.9135 | precision: 0.9128 | recall: 0.9123 | f1: 0.9123 | \n",
      "Epoch 9\n",
      "Train Loss: 0.4520 | accuracy: 0.9160 | precision: 0.9152 | recall: 0.9149 | f1: 0.9148 | \n",
      "Epoch 10\n",
      "Train Loss: 0.4491 | accuracy: 0.9146 | precision: 0.9141 | recall: 0.9134 | f1: 0.9133 | \n",
      "\n",
      "Best Accuracy for Model MLP_1_Layer: 0.916\n"
     ]
    }
   ],
   "source": [
    "!python main.py --model MLP_1_Layer"
   ]
  },
  {
   "cell_type": "markdown",
   "metadata": {},
   "source": [
    "### Bài 2: Xây dựng mô hình 3-layer MLP, hàm ReLU và hàm softmax làm activation function. Trong đó activation function cho 2 layer đầu là ReLU và activation function cho layer cuối là Softmax. Huấn luyện mô hình này sử dụng SGD làm optimizer và đánh giá trên các độ đo accuracy, precision, recall và F1-macro. Đánh giá kết quả của mô hình với từng chữ số."
   ]
  },
  {
   "cell_type": "code",
   "execution_count": 2,
   "metadata": {},
   "outputs": [
    {
     "name": "stdout",
     "output_type": "stream",
     "text": [
      "Epoch 1\n",
      "Train Loss: 1.2786 | accuracy: 0.8803 | precision: 0.8788 | recall: 0.8781 | f1: 0.8773 | \n",
      "Epoch 2\n",
      "Train Loss: 0.4533 | accuracy: 0.9054 | precision: 0.9048 | recall: 0.9037 | f1: 0.9036 | \n",
      "Epoch 3\n",
      "Train Loss: 0.3610 | accuracy: 0.9207 | precision: 0.9199 | recall: 0.9196 | f1: 0.9194 | \n",
      "Epoch 4\n",
      "Train Loss: 0.3074 | accuracy: 0.9310 | precision: 0.9302 | recall: 0.9302 | f1: 0.9300 | \n",
      "Epoch 5\n",
      "Train Loss: 0.2697 | accuracy: 0.9388 | precision: 0.9384 | recall: 0.9379 | f1: 0.9379 | \n",
      "Epoch 6\n",
      "Train Loss: 0.2385 | accuracy: 0.9460 | precision: 0.9457 | recall: 0.9452 | f1: 0.9453 | \n",
      "Epoch 7\n",
      "Train Loss: 0.2143 | accuracy: 0.9497 | precision: 0.9494 | recall: 0.9490 | f1: 0.9491 | \n",
      "Epoch 8\n",
      "Train Loss: 0.1946 | accuracy: 0.9530 | precision: 0.9526 | recall: 0.9524 | f1: 0.9524 | \n",
      "Epoch 9\n",
      "Train Loss: 0.1802 | accuracy: 0.9571 | precision: 0.9568 | recall: 0.9565 | f1: 0.9566 | \n",
      "Epoch 10\n",
      "Train Loss: 0.1655 | accuracy: 0.9592 | precision: 0.9589 | recall: 0.9588 | f1: 0.9587 | \n",
      "\n",
      "Best Accuracy for Model MLP_3_Layer: 0.9592\n"
     ]
    }
   ],
   "source": [
    "!python main.py --model MLP_3_Layer"
   ]
  }
 ],
 "metadata": {
  "kernelspec": {
   "display_name": "Python 3",
   "language": "python",
   "name": "python3"
  },
  "language_info": {
   "codemirror_mode": {
    "name": "ipython",
    "version": 3
   },
   "file_extension": ".py",
   "mimetype": "text/x-python",
   "name": "python",
   "nbconvert_exporter": "python",
   "pygments_lexer": "ipython3",
   "version": "3.10.0"
  }
 },
 "nbformat": 4,
 "nbformat_minor": 2
}
